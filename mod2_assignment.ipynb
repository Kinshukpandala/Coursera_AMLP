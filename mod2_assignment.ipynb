// review assignment 2 instead
